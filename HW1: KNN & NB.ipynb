{
 "cells": [
  {
   "cell_type": "markdown",
   "source": [
    "## Part 1"
   ],
   "metadata": {
    "collapsed": false
   }
  },
  {
   "cell_type": "code",
   "execution_count": 1,
   "outputs": [],
   "source": [
    "import numpy as np\n",
    "import pandas as pd\n",
    "from sklearn.model_selection import train_test_split, cross_val_score, cross_val_predict\n",
    "from sklearn.neighbors import KNeighborsClassifier\n",
    "import matplotlib.pyplot as plt\n",
    "from sklearn.metrics import confusion_matrix, accuracy_score"
   ],
   "metadata": {
    "collapsed": false
   }
  },
  {
   "cell_type": "code",
   "execution_count": 7,
   "outputs": [],
   "source": [
    "class StandardScaler:\n",
    "    def fit_transform(self, X):\n",
    "        mean = np.mean(X, axis=0)\n",
    "        std = np.std(X, axis=0)\n",
    "        return (X - mean) / std"
   ],
   "metadata": {
    "collapsed": false
   }
  },
  {
   "cell_type": "code",
   "execution_count": 8,
   "outputs": [],
   "source": [
    "data = pd.read_csv(\"diabetes.csv\")"
   ],
   "metadata": {
    "collapsed": false
   }
  },
  {
   "cell_type": "code",
   "execution_count": 9,
   "outputs": [],
   "source": [
    "features = data.drop('Outcome', axis=1)\n",
    "target = data['Outcome']"
   ],
   "metadata": {
    "collapsed": false
   }
  },
  {
   "cell_type": "code",
   "execution_count": 10,
   "outputs": [],
   "source": [
    "scaler = StandardScaler()\n",
    "scaled_features = scaler.fit_transform(features)"
   ],
   "metadata": {
    "collapsed": false
   }
  },
  {
   "cell_type": "code",
   "execution_count": 11,
   "outputs": [],
   "source": [
    "scaled_data = pd.DataFrame(scaled_features, columns=features.columns)\n",
    "scaled_data['Outcome'] = target"
   ],
   "metadata": {
    "collapsed": false
   }
  },
  {
   "cell_type": "code",
   "execution_count": 12,
   "outputs": [],
   "source": [
    "scaled_data.to_csv('scaled_diabetes.csv', index=False)"
   ],
   "metadata": {
    "collapsed": false
   }
  },
  {
   "cell_type": "code",
   "execution_count": 2,
   "outputs": [],
   "source": [
    "diabetes = pd.read_csv(\"scaled_diabetes.csv\")"
   ],
   "metadata": {
    "collapsed": false
   }
  },
  {
   "cell_type": "code",
   "execution_count": 3,
   "outputs": [],
   "source": [
    "features = diabetes.drop('Outcome', axis=1)\n",
    "target = diabetes['Outcome']"
   ],
   "metadata": {
    "collapsed": false
   }
  },
  {
   "cell_type": "code",
   "execution_count": 4,
   "outputs": [],
   "source": [
    "X_train, X_test, y_train, y_test = train_test_split(features, target, test_size=0.2)"
   ],
   "metadata": {
    "collapsed": false
   }
  },
  {
   "cell_type": "code",
   "execution_count": 5,
   "outputs": [],
   "source": [
    "k_values = list(range(1, 31))\n",
    "cv_scores = []"
   ],
   "metadata": {
    "collapsed": false
   }
  },
  {
   "cell_type": "code",
   "execution_count": 6,
   "outputs": [],
   "source": [
    "for k in k_values:\n",
    "    knn = KNeighborsClassifier(n_neighbors=k)\n",
    "    scores = cross_val_score(knn, X_train, y_train, cv=5, scoring='accuracy')\n",
    "    cv_scores.append(scores.mean())"
   ],
   "metadata": {
    "collapsed": false
   }
  },
  {
   "cell_type": "code",
   "execution_count": 7,
   "outputs": [
    {
     "data": {
      "text/plain": "<Figure size 432x288 with 1 Axes>",
      "image/png": "[encoded data removed]"
     },
     "metadata": {
      "needs_background": "light"
     },
     "output_type": "display_data"
    }
   ],
   "source": [
    "plt.plot(k_values, cv_scores)\n",
    "plt.xlabel('K Value')\n",
    "plt.ylabel('Accuracy')\n",
    "plt.show()"
   ],
   "metadata": {
    "collapsed": false
   }
  },
  {
   "cell_type": "code",
   "execution_count": 8,
   "outputs": [
    {
     "name": "stdout",
     "output_type": "stream",
     "text": [
      "Best K value: 27\n"
     ]
    }
   ],
   "source": [
    "best_k = k_values[np.argmax(cv_scores)]\n",
    "print('Best K value:', best_k)"
   ],
   "metadata": {
    "collapsed": false
   }
  },
  {
   "cell_type": "code",
   "execution_count": 9,
   "outputs": [
    {
     "data": {
      "text/plain": "KNeighborsClassifier(n_neighbors=27)"
     },
     "execution_count": 9,
     "metadata": {},
     "output_type": "execute_result"
    }
   ],
   "source": [
    "knn = KNeighborsClassifier(n_neighbors=best_k)\n",
    "knn.fit(X_train, y_train)"
   ],
   "metadata": {
    "collapsed": false
   }
  },
  {
   "cell_type": "code",
   "execution_count": 10,
   "outputs": [],
   "source": [
    "y_pred = cross_val_predict(knn, X_train, y_train, cv=5)"
   ],
   "metadata": {
    "collapsed": false
   }
  },
  {
   "cell_type": "code",
   "execution_count": 21,
   "outputs": [
    {
     "name": "stdout",
     "output_type": "stream",
     "text": [
      "Mean: 0.7736505397840864\n",
      "Standard deviation: 0.018427166767250112\n"
     ]
    }
   ],
   "source": [
    "cv_scores = cross_val_score(knn, X_train, y_train, cv=5)\n",
    "print('Mean:', cv_scores.mean())\n",
    "print('Standard deviation:', cv_scores.std())"
   ],
   "metadata": {
    "collapsed": false
   }
  },
  {
   "cell_type": "code",
   "execution_count": 16,
   "outputs": [
    {
     "name": "stdout",
     "output_type": "stream",
     "text": [
      "Confusion Matrix:\n",
      " [[359  39]\n",
      " [100 116]]\n"
     ]
    }
   ],
   "source": [
    "conf_mat = confusion_matrix(y_train, y_pred)\n",
    "print(\"Confusion Matrix:\\n\", conf_mat)"
   ],
   "metadata": {
    "collapsed": false
   }
  },
  {
   "cell_type": "markdown",
   "source": [
    "The mean is a measure of central tendency that gives an indication of the typical value in a set of data. In the context of model evaluation, the mean can be used to summarize the performance of a model across multiple trials or on a subset of a dataset. For example, if you perform k-fold cross-validation to evaluate the performance of a model, you may report the mean accuracy across the k folds as a summary of the model's performance.\n",
    "The standard deviation is a measure of how much the values in a set of data vary from the mean. In the context of model evaluation, the standard deviation can be used to assess the variability in the model's performance across multiple trials or on a subset of a dataset. A high standard deviation indicates that the model's performance varies widely, while a low standard deviation indicates that the model's performance is consistent.\n",
    "A confusion matrix is a table that summarizes the number of true positive, true negative, false positive, and false negative predictions made by a model on a dataset. It is used to evaluate the performance of a model on a binary classification task, where the goal is to predict one of two classes. The confusion matrix allows you to calculate various performance metrics such as accuracy, precision, recall, and F1-score.\n",
    "\n",
    "The mean of this model is 0.7736505397840864.\n",
    "The standard deviation is 0.018427166767250112\n",
    "The confusion matrix is\n",
    "[359  39]\n",
    "[100 116]"
   ],
   "metadata": {
    "collapsed": false
   }
  },
  {
   "cell_type": "markdown",
   "source": [
    "## Part 2"
   ],
   "metadata": {
    "collapsed": false
   }
  },
  {
   "cell_type": "code",
   "execution_count": 7,
   "outputs": [],
   "source": [
    "import numpy as np\n",
    "import pandas as pd\n",
    "from sklearn.naive_bayes import GaussianNB, MultinomialNB, BernoulliNB\n",
    "from sklearn.model_selection import train_test_split, cross_val_score\n",
    "from sklearn.metrics import accuracy_score"
   ],
   "metadata": {
    "collapsed": false
   }
  },
  {
   "cell_type": "code",
   "execution_count": 3,
   "outputs": [],
   "source": [
    "diabetes = pd.read_csv(\"diabetes.csv\")"
   ],
   "metadata": {
    "collapsed": false
   }
  },
  {
   "cell_type": "code",
   "execution_count": 4,
   "outputs": [],
   "source": [
    "features = diabetes.drop('Outcome', axis=1)\n",
    "target = diabetes['Outcome']"
   ],
   "metadata": {
    "collapsed": false
   }
  },
  {
   "cell_type": "code",
   "execution_count": 5,
   "outputs": [],
   "source": [
    "X_train, X_test, y_train, y_test = train_test_split(features, target, test_size=0.2)"
   ],
   "metadata": {
    "collapsed": false
   }
  },
  {
   "cell_type": "code",
   "execution_count": 6,
   "outputs": [],
   "source": [
    "gaussian_clf = GaussianNB()\n",
    "multinomial_clf = MultinomialNB()\n",
    "bernoulli_clf = BernoulliNB()"
   ],
   "metadata": {
    "collapsed": false
   }
  },
  {
   "cell_type": "code",
   "execution_count": 8,
   "outputs": [],
   "source": [
    "n_folds = 5"
   ],
   "metadata": {
    "collapsed": false
   }
  },
  {
   "cell_type": "code",
   "execution_count": 9,
   "outputs": [],
   "source": [
    "gaussian_scores = cross_val_score(gaussian_clf, X_train, y_train, cv=n_folds)\n",
    "multinomial_scores = cross_val_score(multinomial_clf, X_train, y_train, cv=n_folds)\n",
    "bernoulli_scores = cross_val_score(bernoulli_clf, X_train, y_train, cv=n_folds)"
   ],
   "metadata": {
    "collapsed": false
   }
  },
  {
   "cell_type": "code",
   "execution_count": 10,
   "outputs": [
    {
     "name": "stdout",
     "output_type": "stream",
     "text": [
      "Mean accuracy of GaussianNB: 0.76 (std: 0.03)\n",
      "Mean accuracy of MultinomialNB: 0.59 (std: 0.06)\n",
      "Mean accuracy of BernoulliNB: 0.64 (std: 0.02)\n"
     ]
    }
   ],
   "source": [
    "print(\"Mean accuracy of GaussianNB: {:.2f} (std: {:.2f})\".format(gaussian_scores.mean(), gaussian_scores.std()))\n",
    "print(\"Mean accuracy of MultinomialNB: {:.2f} (std: {:.2f})\".format(multinomial_scores.mean(), multinomial_scores.std()))\n",
    "print(\"Mean accuracy of BernoulliNB: {:.2f} (std: {:.2f})\".format(bernoulli_scores.mean(), bernoulli_scores.std()))"
   ],
   "metadata": {
    "collapsed": false
   }
  },
  {
   "cell_type": "code",
   "execution_count": 11,
   "outputs": [
    {
     "data": {
      "text/plain": "BernoulliNB()"
     },
     "execution_count": 11,
     "metadata": {},
     "output_type": "execute_result"
    }
   ],
   "source": [
    "gaussian_clf.fit(X_train, y_train)\n",
    "multinomial_clf.fit(X_train, y_train)\n",
    "bernoulli_clf.fit(X_train, y_train)"
   ],
   "metadata": {
    "collapsed": false
   }
  },
  {
   "cell_type": "code",
   "execution_count": 12,
   "outputs": [],
   "source": [
    "y_pred_gaussian = gaussian_clf.predict(X_test)\n",
    "y_pred_multinomial = multinomial_clf.predict(X_test)\n",
    "y_pred_bernoulli = bernoulli_clf.predict(X_test)"
   ],
   "metadata": {
    "collapsed": false
   }
  },
  {
   "cell_type": "code",
   "execution_count": 13,
   "outputs": [],
   "source": [
    "acc_gaussian = accuracy_score(y_test, y_pred_gaussian)\n",
    "acc_multinomial = accuracy_score(y_test, y_pred_multinomial)\n",
    "acc_bernoulli = accuracy_score(y_test, y_pred_bernoulli)"
   ],
   "metadata": {
    "collapsed": false
   }
  },
  {
   "cell_type": "code",
   "execution_count": 14,
   "outputs": [
    {
     "name": "stdout",
     "output_type": "stream",
     "text": [
      "Accuracy of GaussianNB on testing data: 0.73\n",
      "Accuracy of MultinomialNB on testing data: 0.66\n",
      "Accuracy of BernoulliNB on testing data: 0.65\n"
     ]
    }
   ],
   "source": [
    "print(\"Accuracy of GaussianNB on testing data: {:.2f}\".format(acc_gaussian))\n",
    "print(\"Accuracy of MultinomialNB on testing data: {:.2f}\".format(acc_multinomial))\n",
    "print(\"Accuracy of BernoulliNB on testing data: {:.2f}\".format(acc_bernoulli))"
   ],
   "metadata": {
    "collapsed": false
   }
  },
  {
   "cell_type": "markdown",
   "source": [
    "Mean and standard deviation of GaussianNB: 0.76 and 0.03\n",
    "Mean and standard deviation of MultinomialNB: 0.59 and 0.06\n",
    "Mean and standard deviation of BernoulliNB: 0.64 and std: 0.02\n",
    "\n",
    "GaussianNB has highest mean and lowest standard deviation\n",
    "\n",
    "Accuracy of GaussianNB on testing data: 0.73\n",
    "Accuracy of MultinomialNB on testing data: 0.66\n",
    "Accuracy of BernoulliNB on testing data: 0.65\n",
    "\n",
    "GaussianNB has highest score.\n",
    "\n",
    "GaussianNB fits best"
   ],
   "metadata": {
    "collapsed": false
   }
  },
  {
   "cell_type": "markdown",
   "source": [
    "## Part 3"
   ],
   "metadata": {
    "collapsed": false
   }
  },
  {
   "cell_type": "code",
   "execution_count": 20,
   "outputs": [],
   "source": [
    "import numpy as np\n",
    "import pandas as pd\n",
    "from sklearn.neighbors import KNeighborsClassifier\n",
    "from sklearn.naive_bayes import GaussianNB\n",
    "from sklearn.model_selection import LeaveOneOut, cross_val_score"
   ],
   "metadata": {
    "collapsed": false
   }
  },
  {
   "cell_type": "code",
   "execution_count": 19,
   "outputs": [],
   "source": [
    "scaled_diabetes = pd.read_csv(\"scaled_diabetes.csv\")\n",
    "diabetes = pd.read_csv(\"diabetes.csv\")"
   ],
   "metadata": {
    "collapsed": false
   }
  },
  {
   "cell_type": "code",
   "execution_count": 22,
   "outputs": [],
   "source": [
    "X = scaled_diabetes.drop('Outcome', axis=1).values\n",
    "y = scaled_diabetes['Outcome'].values"
   ],
   "metadata": {
    "collapsed": false
   }
  },
  {
   "cell_type": "code",
   "execution_count": 23,
   "outputs": [],
   "source": [
    "knn_clf = KNeighborsClassifier()"
   ],
   "metadata": {
    "collapsed": false
   }
  },
  {
   "cell_type": "code",
   "execution_count": 24,
   "outputs": [],
   "source": [
    "loo = LeaveOneOut()"
   ],
   "metadata": {
    "collapsed": false
   }
  },
  {
   "cell_type": "code",
   "execution_count": 25,
   "outputs": [],
   "source": [
    "knn_scores = cross_val_score(knn_clf, X, y, cv=loo)"
   ],
   "metadata": {
    "collapsed": false
   }
  },
  {
   "cell_type": "code",
   "execution_count": 26,
   "outputs": [
    {
     "name": "stdout",
     "output_type": "stream",
     "text": [
      "Mean accuracy of KNN classifier: 0.74 (std: 0.44)\n"
     ]
    }
   ],
   "source": [
    "print(\"Mean accuracy of KNN classifier: {:.2f} (std: {:.2f})\".format(np.mean(knn_scores), np.std(knn_scores)))"
   ],
   "metadata": {
    "collapsed": false
   }
  },
  {
   "cell_type": "code",
   "execution_count": 27,
   "outputs": [],
   "source": [
    "X = diabetes.drop('Outcome', axis=1).values\n",
    "y = diabetes['Outcome'].values"
   ],
   "metadata": {
    "collapsed": false
   }
  },
  {
   "cell_type": "code",
   "execution_count": 28,
   "outputs": [],
   "source": [
    "gaussian_clf = GaussianNB()"
   ],
   "metadata": {
    "collapsed": false
   }
  },
  {
   "cell_type": "code",
   "execution_count": 29,
   "outputs": [],
   "source": [
    "gaussian_scores = cross_val_score(gaussian_clf, X, y, cv=loo)"
   ],
   "metadata": {
    "collapsed": false
   }
  },
  {
   "cell_type": "code",
   "execution_count": 30,
   "outputs": [
    {
     "name": "stdout",
     "output_type": "stream",
     "text": [
      "Mean accuracy of GaussianNB classifier: 0.75 (std: 0.43)\n"
     ]
    }
   ],
   "source": [
    "print(\"Mean accuracy of GaussianNB classifier: {:.2f} (std: {:.2f})\".format(np.mean(gaussian_scores), np.std(gaussian_scores)))"
   ],
   "metadata": {
    "collapsed": false
   }
  },
  {
   "cell_type": "markdown",
   "source": [
    "### During Run Time:\n",
    "\n",
    "KNN: The run time for KNN is dependent on the size of the training set, the number of features, and the value of the K hyperparameter. If the training set is very large, KNN can be slow and computationally intensive. However, it is a simple algorithm that can be parallelized, so it can scale well to large datasets. The choice of the K hyperparameter can also have an impact on run time and accuracy. A larger value of K may improve accuracy but also increase run time, while a smaller value of K may reduce run time but also decrease accuracy.\n",
    "GaussianNB: The run time for GaussianNB is typically very fast since it only needs to compute the mean and variance of each feature for each class. However, if there are many features or if the data is very high-dimensional, the algorithm may become slow and suffer from the curse of dimensionality. In general, GaussianNB is a simple and fast algorithm that can be efficient for small to moderate sized datasets.\n",
    "\n",
    "### During Testing Time:\n",
    "\n",
    "KNN: The testing time for KNN is dependent on the size of the test set and the number of features. In general, KNN has a fast testing time since it only needs to compare each test instance to the training instances to find the K nearest neighbors. However, if the number of features is very large, the algorithm may become slow and suffer from the curse of dimensionality. Additionally, the choice of the K hyperparameter can have an impact on testing time and accuracy, as discussed above.\n",
    "GaussianNB: The testing time for GaussianNB is typically very fast since it only needs to compute the probability of each class given the test instance. In general, GaussianNB has a fast testing time for small to moderate sized datasets.\n",
    "\n",
    "In summary, the run time and testing time of the KNN and GaussianNB classifiers depend on various factors such as the size of the dataset, the number of features, and the choice of hyperparameters. It is important to carefully evaluate the performance of these classifiers and tune their hyperparameters to optimize their accuracy and speed."
   ],
   "metadata": {
    "collapsed": false
   }
  },
  {
   "cell_type": "markdown",
   "source": [
    "## Part 4"
   ],
   "metadata": {
    "collapsed": false
   }
  },
  {
   "cell_type": "markdown",
   "source": [
    "To determine whether KNN or Naive Bayes works best with the Pima Indians Diabetes Database, we would need to evaluate the performance of each algorithm using appropriate evaluation metrics and compare their results.\n",
    "\n",
    "In general, KNN can perform well on datasets where instances that are close to each other in feature space tend to have the same class label. However, KNN can be sensitive to irrelevant features and may struggle with high-dimensional data. It can also be computationally expensive to train and test on large datasets.\n",
    "\n",
    "On the other hand, Naive Bayes is a simple and fast algorithm that can perform well on datasets with discrete and continuous features. It assumes that the features are conditionally independent given the class label, which can be a strong assumption in some cases. Naive Bayes can also be sensitive to imbalanced class distributions and may struggle with rare classes.\n",
    "\n",
    "Given the nature of the Pima Indians Diabetes Dataset, which has both discrete and continuous features, and a moderately imbalanced class distribution, both KNN and Naive Bayes could potentially work well. However, without evaluating the performance of each algorithm on this specific dataset, it is impossible to say for certain which one works best.\n",
    "\n",
    "Therefore, I recommend evaluating the performance of both KNN and Naive Bayes using appropriate evaluation metrics such as accuracy, precision, recall, F1-score, and AUC-ROC. It is also important to use cross-validation to ensure that the results are robust and not overfit to the training data. Based on the evaluation results, you can then determine which algorithm works best for this particular dataset."
   ],
   "metadata": {
    "collapsed": false
   }
  },
  {
   "cell_type": "code",
   "execution_count": 11,
   "outputs": [],
   "source": [
    "import numpy as np\n",
    "import pandas as pd\n",
    "from sklearn.model_selection import train_test_split\n",
    "from sklearn.naive_bayes import GaussianNB\n",
    "from sklearn.metrics import  accuracy_score"
   ],
   "metadata": {
    "collapsed": false
   }
  },
  {
   "cell_type": "code",
   "execution_count": 0,
   "outputs": [],
   "source": [
    "diabetes = pd.read_csv(\"diabetes.csv\")"
   ],
   "metadata": {
    "collapsed": false
   }
  },
  {
   "cell_type": "code",
   "execution_count": 4,
   "outputs": [],
   "source": [
    "X = diabetes.drop('Outcome', axis=1).values\n",
    "y = diabetes['Outcome'].values"
   ],
   "metadata": {
    "collapsed": false
   }
  },
  {
   "cell_type": "code",
   "execution_count": 5,
   "outputs": [],
   "source": [
    "X_trainval, X_test, y_trainval, y_test = train_test_split(X, y, test_size=0.2, random_state=42)\n",
    "X_train, X_val, y_train, y_val = train_test_split(X_trainval, y_trainval, test_size=0.25, random_state=42)"
   ],
   "metadata": {
    "collapsed": false
   }
  },
  {
   "cell_type": "code",
   "execution_count": 9,
   "outputs": [
    {
     "name": "stdout",
     "output_type": "stream",
     "text": [
      "Accuracy on test set: 0.766\n"
     ]
    }
   ],
   "source": [
    "gnb = GaussianNB()\n",
    "X_trainval = np.concatenate((X_train, X_val))\n",
    "y_trainval = np.concatenate((y_train, y_val))\n",
    "gnb.fit(X_trainval, y_trainval)\n",
    "y_pred = gnb.predict(X_test)\n",
    "accuracy = accuracy_score(y_test, y_pred)\n",
    "print(\"Accuracy on test set: {:.3f}\".format(accuracy))"
   ],
   "metadata": {
    "collapsed": false
   }
  },
  {
   "cell_type": "code",
   "execution_count": 10,
   "outputs": [
    {
     "data": {
      "text/plain": "GaussianNB()"
     },
     "execution_count": 10,
     "metadata": {},
     "output_type": "execute_result"
    }
   ],
   "source": [
    "gnb = GaussianNB()\n",
    "gnb.fit(X, y)"
   ],
   "metadata": {
    "collapsed": false
   }
  },
  {
   "cell_type": "code",
   "execution_count": null,
   "outputs": [],
   "source": [],
   "metadata": {
    "collapsed": false
   }
  }
 ],
 "metadata": {
  "kernelspec": {
   "display_name": "Python 3",
   "language": "python",
   "name": "python3"
  },
  "language_info": {
   "codemirror_mode": {
    "name": "ipython",
    "version": 2
   },
   "file_extension": ".py",
   "mimetype": "text/x-python",
   "name": "python",
   "nbconvert_exporter": "python",
   "pygments_lexer": "ipython2",
   "version": "2.7.6"
  }
 },
 "nbformat": 4,
 "nbformat_minor": 0
}
